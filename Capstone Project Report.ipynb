{
    "cells": [
        {
            "metadata": {
                "collapsed": true
            },
            "cell_type": "markdown",
            "source": "# Applied Data Science Capstone Project Report\n"
        },
        {
            "metadata": {},
            "cell_type": "markdown",
            "source": "## 1. Introduction/Business Problem\nLondon is a diverse place. It is both a famous tourism destination and a financial and political capital.  There are many opportunities to invest in catering in London. From stakeholders to self-business starters, many people would be interested in this. An investment needs to take into account a lot of aspects \u2013 location, scalability, target people, concepts, etc. \nAnd I am here to help.\n\n## 2. Data\nThe data used here are an excel file of London Borough information and a csv file of all London postcodes and geographical information. Both data are downloaded directly from open sources such as UK government website.\n\n## 3. Methodology\nI am going to combine these 2 data files and filter down to important boroughs. Then with use of Foursquare API and machine learning techniques, in particular clustering, I can make an appropriate suggestion for my client ABC. \nThe reason for using k-means clustering is that firstly, it is good in solving our problem of finding a best location of investment. And secondly, it is efficient especially for large data sets, which is suitable for this problem. Although it potentially returns deferent clusters each time it is run due to random initialisation of centroids, this can be compensated by running this algorithm a few times to reduce randomness and improve accuracy.\n\n## 4. Results\nThe detailed map is shown in notebook.\n\n## 5. Discussion\nAs we can see from the map, London Boroughs are clustered into 5 areas, one of which is centred in Kensington, surrounded by South Kensington, Earls Court, etc. \nAs I have also computed a data frame consisting of top 5 venues of each borough. By search this, I get to know that caf\u00e9 is the top first most common venue in Kensington, with parks, Italian restaurants and exhibits being also popular. \nBased on these, I would suggest investing in a small Italian styled caf\u00e9 near park or museums.\n\n## 6. Conclusion\nThe recommendation of a small Italian styled caf\u00e9 made upon data resources gathered and clustering mechanisms. \nIf more data of people group (age, career, etc) and purpose of visit are collected, the recommendation can be more precise. "
        },
        {
            "metadata": {},
            "cell_type": "code",
            "source": "",
            "execution_count": null,
            "outputs": []
        }
    ],
    "metadata": {
        "kernelspec": {
            "name": "python3",
            "display_name": "Python 3.6",
            "language": "python"
        },
        "language_info": {
            "name": "python",
            "version": "3.6.8",
            "mimetype": "text/x-python",
            "codemirror_mode": {
                "name": "ipython",
                "version": 3
            },
            "pygments_lexer": "ipython3",
            "nbconvert_exporter": "python",
            "file_extension": ".py"
        }
    },
    "nbformat": 4,
    "nbformat_minor": 1
}